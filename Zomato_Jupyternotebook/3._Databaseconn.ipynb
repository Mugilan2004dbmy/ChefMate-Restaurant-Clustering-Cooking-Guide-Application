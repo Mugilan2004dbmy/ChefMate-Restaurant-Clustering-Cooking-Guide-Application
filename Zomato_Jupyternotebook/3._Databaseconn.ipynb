{
 "cells": [
  {
   "cell_type": "code",
   "execution_count": 1,
   "id": "dd8b1c95",
   "metadata": {},
   "outputs": [],
   "source": [
    "# import libraries\n",
    "import pandas as pd\n",
    "import numpy as np\n",
    "import mysql.connector\n",
    "import sqlalchemy\n",
    "import warnings\n",
    "warnings.filterwarnings('ignore')"
   ]
  },
  {
   "cell_type": "markdown",
   "id": "af4daf99",
   "metadata": {},
   "source": [
    "# RDS Data Base"
   ]
  },
  {
   "cell_type": "code",
   "execution_count": 2,
   "id": "ac767387",
   "metadata": {},
   "outputs": [
    {
     "name": "stdout",
     "output_type": "stream",
     "text": [
      "Connection successful!\n"
     ]
    }
   ],
   "source": [
    "import mysql.connector\n",
    "\n",
    "try:\n",
    "    mydb = mysql.connector.connect(\n",
    "        host='database-1.cv28ykk6gwpn.us-east-1.rds.amazonaws.com',\n",
    "        port=3306,\n",
    "        user='admin',\n",
    "        password='Mugi_200429'\n",
    "    )\n",
    "    print(\"Connection successful!\")\n",
    "except mysql.connector.Error as err:\n",
    "    print(f\"Error: {err}\")"
   ]
  },
  {
   "cell_type": "code",
   "execution_count": 10,
   "id": "76abf397",
   "metadata": {},
   "outputs": [],
   "source": [
    "mycursor = mydb.cursor()"
   ]
  },
  {
   "cell_type": "code",
   "execution_count": 11,
   "id": "df2c31c9",
   "metadata": {},
   "outputs": [],
   "source": [
    "mycursor.execute('show databases')"
   ]
  },
  {
   "cell_type": "code",
   "execution_count": 12,
   "id": "938298b2",
   "metadata": {},
   "outputs": [
    {
     "data": {
      "text/plain": [
       "[('information_schema',),\n",
       " ('mysql',),\n",
       " ('performance_schema',),\n",
       " ('sys',),\n",
       " ('zomato',),\n",
       " ('zomato_data',)]"
      ]
     },
     "execution_count": 12,
     "metadata": {},
     "output_type": "execute_result"
    }
   ],
   "source": [
    "mycursor.fetchall()"
   ]
  },
  {
   "cell_type": "code",
   "execution_count": 19,
   "id": "b6f2ddf0",
   "metadata": {},
   "outputs": [],
   "source": [
    "# To drop the existing database (BE CAREFUL!):\n",
    "mycursor.execute(\"DROP DATABASE IF EXISTS zomato_data\")\n",
    "mydb.commit()\n",
    "\n",
    "# Now create the database:\n",
    "mycursor.execute(\"CREATE DATABASE zomato_data\")\n",
    "mydb.commit()"
   ]
  },
  {
   "cell_type": "code",
   "execution_count": 20,
   "id": "e4bfdceb",
   "metadata": {},
   "outputs": [
    {
     "data": {
      "text/plain": [
       "[('information_schema',),\n",
       " ('mysql',),\n",
       " ('performance_schema',),\n",
       " ('sys',),\n",
       " ('zomato_data',)]"
      ]
     },
     "execution_count": 20,
     "metadata": {},
     "output_type": "execute_result"
    }
   ],
   "source": [
    "mycursor.execute('show databases')\n",
    "\n",
    "mycursor.fetchall()"
   ]
  },
  {
   "cell_type": "code",
   "execution_count": 21,
   "id": "83704dfb",
   "metadata": {},
   "outputs": [
    {
     "name": "stdout",
     "output_type": "stream",
     "text": [
      "Engine created successfully!\n"
     ]
    }
   ],
   "source": [
    "from sqlalchemy import create_engine\n",
    "\n",
    "server = 'database-1.cv28ykk6gwpn.us-east-1.rds.amazonaws.com'\n",
    "port = 3306\n",
    "user = 'admin'\n",
    "password = 'Mugi_200429'\n",
    "database = 'zomato_data'\n",
    "sqltype = \"mysql+mysqlconnector\"\n",
    "\n",
    "engine = create_engine(f'{sqltype}://{user}:{password}@{server}:{port}/{database}')\n",
    "\n",
    "print(\"Engine created successfully!\")"
   ]
  },
  {
   "cell_type": "code",
   "execution_count": 22,
   "id": "c6cb31c1",
   "metadata": {},
   "outputs": [],
   "source": [
    "# Load the cleaned data\n",
    "df = pd.read_csv(r\"C:\\Users\\Lenovo\\Downloads\\mugilan project\\Zomato_cleaned_data.csv\")"
   ]
  },
  {
   "cell_type": "code",
   "execution_count": 23,
   "id": "2eac5c17",
   "metadata": {},
   "outputs": [
    {
     "data": {
      "text/plain": [
       "29753"
      ]
     },
     "execution_count": 23,
     "metadata": {},
     "output_type": "execute_result"
    }
   ],
   "source": [
    "df.to_sql(\"restaurant\",con=engine,if_exists = 'replace')"
   ]
  }
 ],
 "metadata": {
  "kernelspec": {
   "display_name": "Python 3 (ipykernel)",
   "language": "python",
   "name": "python3"
  },
  "language_info": {
   "codemirror_mode": {
    "name": "ipython",
    "version": 3
   },
   "file_extension": ".py",
   "mimetype": "text/x-python",
   "name": "python",
   "nbconvert_exporter": "python",
   "pygments_lexer": "ipython3",
   "version": "3.9.12"
  }
 },
 "nbformat": 4,
 "nbformat_minor": 5
}
